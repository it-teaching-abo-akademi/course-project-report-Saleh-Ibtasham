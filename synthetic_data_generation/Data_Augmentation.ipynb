{
 "cells": [
  {
   "cell_type": "code",
   "execution_count": 1,
   "metadata": {
    "id": "wQcNMo39QgPo"
   },
   "outputs": [],
   "source": [
    "import numpy as np\n",
    "import random\n",
    "import itertools\n",
    "import librosa\n",
    "import IPython.display as ipd\n",
    "import matplotlib.pyplot as plt\n",
    "\n",
    "%matplotlib inline"
   ]
  },
  {
   "cell_type": "code",
   "execution_count": 2,
   "metadata": {
    "id": "wC1qP-fbQvXp"
   },
   "outputs": [],
   "source": [
    "def load_audio_file(file_path):\n",
    "    input_length = 16000\n",
    "    data = librosa.core.load(file_path)[0] #, sr=16000\n",
    "    if len(data)>input_length:\n",
    "        data = data[:input_length]\n",
    "    else:\n",
    "        data = np.pad(data, (0, max(0, input_length - len(data))), \"constant\")\n",
    "    return data\n",
    "\n",
    "    \n",
    "def plot_time_series(data):\n",
    "    fig = plt.figure(figsize=(14, 8))\n",
    "    plt.title('Raw wave ')\n",
    "    plt.ylabel('Amplitude')\n",
    "    plt.plot(np.linspace(0, 1, len(data)), data)\n",
    "    plt.show()"
   ]
  },
  {
   "cell_type": "code",
   "execution_count": 3,
   "metadata": {},
   "outputs": [],
   "source": [
    "from gtts import gTTS\n",
    "import gtts.lang\n",
    "import soundfile as sf\n",
    "from pydub import AudioSegment"
   ]
  },
  {
   "cell_type": "code",
   "execution_count": 4,
   "metadata": {},
   "outputs": [],
   "source": [
    "lang_list = gtts.lang.tts_langs().keys()\n",
    "lang_list = list(filter(lambda x: \"zh\" not in str(x).lower(), lang_list))"
   ]
  },
  {
   "cell_type": "code",
   "execution_count": 8,
   "metadata": {
    "colab": {
     "base_uri": "https://localhost:8080/"
    },
    "id": "Pu5WLe2ARlrJ",
    "outputId": "fe5a904e-59f5-4605-bac8-1a946458464a"
   },
   "outputs": [],
   "source": [
    "mytext = 'manila'\n",
    "filename = mytext\n",
    "# for i in range(10):\n",
    "#     mytext += ' ' + filename\n",
    "\n",
    "folder_name = filename\n",
    "sample_rate = 16000\n",
    "\n",
    "for lang in lang_list:\n",
    "\n",
    "    is_slow = 0\n",
    "    is_noise = 0\n",
    "    my_audio = gTTS(text=mytext, lang=lang, slow=is_slow)\n",
    "\n",
    "    file_name = f'{folder_name}/{filename}_{lang}_{is_slow}_{is_noise}.wav'\n",
    "    my_audio.save(file_name)\n",
    "    sound = AudioSegment.from_mp3(file_name)\n",
    "    sound.export(file_name, format=\"wav\")\n",
    "\n",
    "\n",
    "#     is_noise = 1\n",
    "#     data_1 = load_audio_file(file_name)\n",
    "#     wn_file = data_1\n",
    "\n",
    "#     wn = np.random.randn(len(wn_file))\n",
    "#     my_audio_noise = data_1 + 0.01*wn\n",
    "\n",
    "#     file_name = f'{folder_name}/{mytext}_{lang}_{is_slow}_{is_noise}.wav' \n",
    "#     sf.write(file_name, my_audio_noise, sample_rate)\n",
    "\n",
    "    is_slow = 1\n",
    "    is_noise = 0\n",
    "    my_audio = gTTS(text=mytext, lang=lang, slow=is_slow)\n",
    "\n",
    "    file_name = f'{folder_name}/{filename}_{lang}_{is_slow}_{is_noise}.wav' \n",
    "    my_audio.save(file_name)\n",
    "    sound = AudioSegment.from_mp3(file_name)\n",
    "    sound.export(file_name, format=\"wav\")"
   ]
  },
  {
   "cell_type": "code",
   "execution_count": 21,
   "metadata": {
    "colab": {
     "base_uri": "https://localhost:8080/",
     "height": 35
    },
    "id": "w61Vlk-fU8Iu",
    "outputId": "fd792069-a316-4e9a-d3b4-dd9c1ffb9eab"
   },
   "outputs": [
    {
     "data": {
      "text/plain": [
       "'C:\\\\Users\\\\niloy\\\\Desktop\\\\Essentials\\\\Åbo courses\\\\Embedded AI\\\\data_kansas.zip'"
      ]
     },
     "execution_count": 21,
     "metadata": {},
     "output_type": "execute_result"
    }
   ],
   "source": [
    "import shutil\n",
    "shutil.make_archive('data_' + filename, 'zip', filename)"
   ]
  }
 ],
 "metadata": {
  "colab": {
   "provenance": []
  },
  "kernelspec": {
   "display_name": "Python 3 (ipykernel)",
   "language": "python",
   "name": "python3"
  },
  "language_info": {
   "codemirror_mode": {
    "name": "ipython",
    "version": 3
   },
   "file_extension": ".py",
   "mimetype": "text/x-python",
   "name": "python",
   "nbconvert_exporter": "python",
   "pygments_lexer": "ipython3",
   "version": "3.9.12"
  }
 },
 "nbformat": 4,
 "nbformat_minor": 1
}
